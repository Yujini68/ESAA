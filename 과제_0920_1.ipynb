{
  "metadata": {
    "kernelspec": {
      "language": "python",
      "display_name": "Python 3",
      "name": "python3"
    },
    "language_info": {
      "pygments_lexer": "ipython3",
      "nbconvert_exporter": "python",
      "version": "3.6.4",
      "file_extension": ".py",
      "codemirror_mode": {
        "name": "ipython",
        "version": 3
      },
      "name": "python",
      "mimetype": "text/x-python"
    },
    "kaggle": {
      "accelerator": "none",
      "dataSources": [
        {
          "sourceId": 1419436,
          "sourceType": "datasetVersion",
          "datasetId": 830916
        }
      ],
      "dockerImageVersionId": 30213,
      "isInternetEnabled": true,
      "language": "python",
      "sourceType": "notebook",
      "isGpuEnabled": false
    },
    "colab": {
      "provenance": [],
      "include_colab_link": true
    }
  },
  "nbformat_minor": 0,
  "nbformat": 4,
  "cells": [
    {
      "cell_type": "markdown",
      "metadata": {
        "id": "view-in-github",
        "colab_type": "text"
      },
      "source": [
        "<a href=\"https://colab.research.google.com/github/Yujini68/ESAA/blob/main/%EA%B3%BC%EC%A0%9C_0920_1.ipynb\" target=\"_parent\"><img src=\"https://colab.research.google.com/assets/colab-badge.svg\" alt=\"Open In Colab\"/></a>"
      ]
    },
    {
      "cell_type": "code",
      "source": [
        "# Description\n",
        "Hello, I am ihsan,<br>\n",
        "I continue to improve myself The Data Science and Machine Learning. This notebook is my eighth action on my way to improving myself. Beforehand I have done projects the Data Science and Machine Learning. I will share below the description. In this notebook, I will apply two classification models of Machine Learning. It is The Decision Tree Classifier and Random Forest Classifier models. At the same time, I will use the confusion matrix in the evaluation classification part of machine learning to evaluate our classification models. While I apply The Machine Learning models I will explain them. At the same time, I will review and visualize the dataset. In this learning path, I would be very happy if you would examine my notebook and help me with how to improve my notebook or what I should do in this development path. I wish you a good day and good work.<br>\n",
        "\n",
        "[For a detailed description of the dataset, please click here](https://www.kaggle.com/datasets/prathamtripathi/drug-classification)\n",
        "\n",
        "Other my notebook:\n",
        "- [GPU Search](https://www.kaggle.com/code/ihsncnkz/gpu-search)\n",
        "- [EDA And Linear Regression](https://www.kaggle.com/code/ihsncnkz/eda-and-linear-regression)\n",
        "- [Regression Models](https://www.kaggle.com/code/ihsncnkz/regression-models)\n",
        "- [Logistic Regression](https://www.kaggle.com/code/ihsncnkz/logistic-regression)\n",
        "- [Classification With K-Nearest Neighbors(KNN)](https://www.kaggle.com/code/ihsncnkz/classification-with-k-nearest-neighbors-knn)\n",
        "- [Classification With Support Vector Machine(SVM)](https://www.kaggle.com/code/ihsncnkz/classification-with-support-vector-machine-svm)\n",
        "- [Classification With Naive Bayes Classification](https://www.kaggle.com/code/ihsncnkz/classification-with-naive-bayes-classification)"
      ],
      "metadata": {
        "id": "nzKjUyOKfOt0"
      },
      "execution_count": null,
      "outputs": []
    },
    {
      "cell_type": "markdown",
      "source": [
        "# Contents\n",
        "- [Data Review](#1)\n",
        "- [Data Visualization](#2)\n",
        "- [Classifications Models ](#3)\n",
        "    - [Data Preparing](#cm1)\n",
        "    - [Decision Tree Classifier](#cm2)\n",
        "    - [Random Forest Classifier](#cm3)\n",
        "    - [Evaluation Classification Models](#cm4)\n",
        "        - [Confusion Matrix](#cm4-1)\n"
      ],
      "metadata": {
        "id": "oSbBSQ8cfOt3"
      }
    },
    {
      "cell_type": "code",
      "source": [
        "# This Python 3 environment comes with many helpful analytics libraries installed\n",
        "# It is defined by the kaggle/python Docker image: https://github.com/kaggle/docker-python\n",
        "# For example, here's several helpful packages to load\n",
        "\n",
        "import numpy as np # linear algebra\n",
        "import pandas as pd # data processing, CSV file I/O (e.g. pd.read_csv)\n",
        "import matplotlib.pyplot as plt\n",
        "import seaborn as sns\n",
        "import plotly.graph_objects as go\n",
        "import plotly.express as px\n",
        "\n",
        "# Input data files are available in the read-only \"../input/\" directory\n",
        "# For example, running this (by clicking run or pressing Shift+Enter) will list all files under the input directory\n",
        "\n",
        "import os\n",
        "for dirname, _, filenames in os.walk('/kaggle/input'):\n",
        "    for filename in filenames:\n",
        "        print(os.path.join(dirname, filename))\n",
        "\n",
        "# You can write up to 20GB to the current directory (/kaggle/working/) that gets preserved as output when you create a version using \"Save & Run All\"\n",
        "# You can also write temporary files to /kaggle/temp/, but they won't be saved outside of the current session"
      ],
      "metadata": {
        "_uuid": "8f2839f25d086af736a60e9eeb907d3b93b6e0e5",
        "_cell_guid": "b1076dfc-b9ad-4769-8c92-a6c4dae69d19",
        "execution": {
          "iopub.status.busy": "2022-08-07T11:24:12.637698Z",
          "iopub.execute_input": "2022-08-07T11:24:12.638796Z",
          "iopub.status.idle": "2022-08-07T11:24:15.154567Z",
          "shell.execute_reply.started": "2022-08-07T11:24:12.63867Z",
          "shell.execute_reply": "2022-08-07T11:24:15.153157Z"
        },
        "trusted": true,
        "id": "Vm6hZtBxfOt4"
      },
      "execution_count": null,
      "outputs": []
    },
    {
      "cell_type": "markdown",
      "source": [
        "# Data Review <a id = \"1\"></a>"
      ],
      "metadata": {
        "id": "CY9tIAALfOt5"
      }
    },
    {
      "cell_type": "code",
      "source": [
        "# I read the dataset with the pandas library.\n",
        "data = pd.read_csv(\"/kaggle/input/drug-classification/drug200.csv\")"
      ],
      "metadata": {
        "execution": {
          "iopub.status.busy": "2022-08-07T11:24:15.156719Z",
          "iopub.execute_input": "2022-08-07T11:24:15.157243Z",
          "iopub.status.idle": "2022-08-07T11:24:15.180078Z",
          "shell.execute_reply.started": "2022-08-07T11:24:15.157194Z",
          "shell.execute_reply": "2022-08-07T11:24:15.178316Z"
        },
        "trusted": true,
        "id": "Q5ZL_FfkfOt5"
      },
      "execution_count": null,
      "outputs": []
    },
    {
      "cell_type": "code",
      "source": [
        "data"
      ],
      "metadata": {
        "execution": {
          "iopub.status.busy": "2022-08-07T11:24:15.183053Z",
          "iopub.execute_input": "2022-08-07T11:24:15.184302Z",
          "iopub.status.idle": "2022-08-07T11:24:15.26378Z",
          "shell.execute_reply.started": "2022-08-07T11:24:15.184235Z",
          "shell.execute_reply": "2022-08-07T11:24:15.262887Z"
        },
        "trusted": true,
        "id": "LEFUjPhAfOt5"
      },
      "execution_count": null,
      "outputs": []
    },
    {
      "cell_type": "code",
      "source": [
        "# information of data\n",
        "data.info()"
      ],
      "metadata": {
        "execution": {
          "iopub.status.busy": "2022-08-07T11:24:15.266294Z",
          "iopub.execute_input": "2022-08-07T11:24:15.266997Z",
          "iopub.status.idle": "2022-08-07T11:24:15.293041Z",
          "shell.execute_reply.started": "2022-08-07T11:24:15.266956Z",
          "shell.execute_reply": "2022-08-07T11:24:15.292194Z"
        },
        "trusted": true,
        "id": "V7WMZWYlfOt6"
      },
      "execution_count": null,
      "outputs": []
    },
    {
      "cell_type": "code",
      "source": [
        "# Dataset Values(Max, min, std..)\n",
        "data.describe()"
      ],
      "metadata": {
        "execution": {
          "iopub.status.busy": "2022-08-07T11:24:15.294709Z",
          "iopub.execute_input": "2022-08-07T11:24:15.295386Z",
          "iopub.status.idle": "2022-08-07T11:24:15.317572Z",
          "shell.execute_reply.started": "2022-08-07T11:24:15.295339Z",
          "shell.execute_reply": "2022-08-07T11:24:15.316416Z"
        },
        "trusted": true,
        "id": "57aLItsufOt6"
      },
      "execution_count": null,
      "outputs": []
    },
    {
      "cell_type": "code",
      "source": [
        "# Data Correlation: Relationship between columns\n",
        "data.corr()"
      ],
      "metadata": {
        "execution": {
          "iopub.status.busy": "2022-08-07T11:24:15.319253Z",
          "iopub.execute_input": "2022-08-07T11:24:15.3199Z",
          "iopub.status.idle": "2022-08-07T11:24:15.333633Z",
          "shell.execute_reply.started": "2022-08-07T11:24:15.319865Z",
          "shell.execute_reply": "2022-08-07T11:24:15.332301Z"
        },
        "trusted": true,
        "id": "CdKh1gkwfOt6"
      },
      "execution_count": null,
      "outputs": []
    },
    {
      "cell_type": "code",
      "source": [
        "# Visualization of correlation result with seaborn library heatmap.\n",
        "f, ax = plt.subplots(figsize = (5,5))\n",
        "sns.heatmap(data.corr(), annot = True, linewidths=0.5, linecolor = \"black\", fmt = \".4f\", ax = ax)\n",
        "plt.show()"
      ],
      "metadata": {
        "execution": {
          "iopub.status.busy": "2022-08-07T11:24:15.335287Z",
          "iopub.execute_input": "2022-08-07T11:24:15.335922Z",
          "iopub.status.idle": "2022-08-07T11:24:15.684008Z",
          "shell.execute_reply.started": "2022-08-07T11:24:15.335886Z",
          "shell.execute_reply": "2022-08-07T11:24:15.682919Z"
        },
        "trusted": true,
        "id": "5KNizcI4fOt7"
      },
      "execution_count": null,
      "outputs": []
    },
    {
      "cell_type": "code",
      "source": [
        "# Visualization of correlation results with seaborn library pairplot\n",
        "sns.pairplot(data, hue = \"Drug\")"
      ],
      "metadata": {
        "execution": {
          "iopub.status.busy": "2022-08-07T11:24:15.686076Z",
          "iopub.execute_input": "2022-08-07T11:24:15.686963Z",
          "iopub.status.idle": "2022-08-07T11:24:17.329453Z",
          "shell.execute_reply.started": "2022-08-07T11:24:15.686911Z",
          "shell.execute_reply": "2022-08-07T11:24:17.328007Z"
        },
        "trusted": true,
        "id": "Ttl5m7EAfOt7"
      },
      "execution_count": null,
      "outputs": []
    },
    {
      "cell_type": "code",
      "source": [
        "# Dataset columns names\n",
        "data.columns"
      ],
      "metadata": {
        "execution": {
          "iopub.status.busy": "2022-08-07T11:24:17.331735Z",
          "iopub.execute_input": "2022-08-07T11:24:17.332232Z",
          "iopub.status.idle": "2022-08-07T11:24:17.341034Z",
          "shell.execute_reply.started": "2022-08-07T11:24:17.332184Z",
          "shell.execute_reply": "2022-08-07T11:24:17.339372Z"
        },
        "trusted": true,
        "id": "zlX5-ERofOt7"
      },
      "execution_count": null,
      "outputs": []
    },
    {
      "cell_type": "markdown",
      "source": [
        "#### I am checking the data inside the columns.\n",
        "When I look in dataset. I saw to have string type the data. While I do training, mustn't have string type in the dataset. For this reason, I will review in the column of data because While I am preparing the dataset for training I have to know data inside column of data."
      ],
      "metadata": {
        "id": "bAJ7xWAGfOt7"
      }
    },
    {
      "cell_type": "code",
      "source": [
        "# Data in the age column\n",
        "data[\"Age\"].value_counts(dropna=False)"
      ],
      "metadata": {
        "execution": {
          "iopub.status.busy": "2022-08-07T11:24:17.346271Z",
          "iopub.execute_input": "2022-08-07T11:24:17.347002Z",
          "iopub.status.idle": "2022-08-07T11:24:17.357586Z",
          "shell.execute_reply.started": "2022-08-07T11:24:17.346932Z",
          "shell.execute_reply": "2022-08-07T11:24:17.356314Z"
        },
        "trusted": true,
        "id": "Y_5zDx1rfOt7"
      },
      "execution_count": null,
      "outputs": []
    },
    {
      "cell_type": "markdown",
      "source": [
        "****"
      ],
      "metadata": {
        "id": "7ya_FQRffOt7"
      }
    },
    {
      "cell_type": "code",
      "source": [
        "# Data in the Sex column\n",
        "data[\"Sex\"].value_counts()"
      ],
      "metadata": {
        "execution": {
          "iopub.status.busy": "2022-08-07T11:24:17.359794Z",
          "iopub.execute_input": "2022-08-07T11:24:17.360761Z",
          "iopub.status.idle": "2022-08-07T11:24:17.371753Z",
          "shell.execute_reply.started": "2022-08-07T11:24:17.360717Z",
          "shell.execute_reply": "2022-08-07T11:24:17.370475Z"
        },
        "trusted": true,
        "id": "d25z9EB2fOt8"
      },
      "execution_count": null,
      "outputs": []
    },
    {
      "cell_type": "markdown",
      "source": [
        "****"
      ],
      "metadata": {
        "id": "u1WCSXpWfOt8"
      }
    },
    {
      "cell_type": "code",
      "source": [
        "# Data in the BP(Blood Pressure Levels) column\n",
        "data[\"BP\"].value_counts()"
      ],
      "metadata": {
        "execution": {
          "iopub.status.busy": "2022-08-07T11:24:17.373835Z",
          "iopub.execute_input": "2022-08-07T11:24:17.374897Z",
          "iopub.status.idle": "2022-08-07T11:24:17.385692Z",
          "shell.execute_reply.started": "2022-08-07T11:24:17.374859Z",
          "shell.execute_reply": "2022-08-07T11:24:17.384563Z"
        },
        "trusted": true,
        "id": "PP2epBqRfOt8"
      },
      "execution_count": null,
      "outputs": []
    },
    {
      "cell_type": "markdown",
      "source": [
        "****"
      ],
      "metadata": {
        "id": "eAXP9CoIfOt8"
      }
    },
    {
      "cell_type": "code",
      "source": [
        "# Data in the Cholesterol column\n",
        "data[\"Cholesterol\"].value_counts()"
      ],
      "metadata": {
        "execution": {
          "iopub.status.busy": "2022-08-07T11:24:17.387776Z",
          "iopub.execute_input": "2022-08-07T11:24:17.388629Z",
          "iopub.status.idle": "2022-08-07T11:24:17.400146Z",
          "shell.execute_reply.started": "2022-08-07T11:24:17.388593Z",
          "shell.execute_reply": "2022-08-07T11:24:17.398937Z"
        },
        "trusted": true,
        "id": "J0XJADXnfOt8"
      },
      "execution_count": null,
      "outputs": []
    },
    {
      "cell_type": "markdown",
      "source": [
        "****"
      ],
      "metadata": {
        "id": "G_X0QqijfOt8"
      }
    },
    {
      "cell_type": "code",
      "source": [
        "# Data in the Drug column\n",
        "data[\"Drug\"].value_counts()"
      ],
      "metadata": {
        "execution": {
          "iopub.status.busy": "2022-08-07T11:24:17.401974Z",
          "iopub.execute_input": "2022-08-07T11:24:17.403373Z",
          "iopub.status.idle": "2022-08-07T11:24:17.623957Z",
          "shell.execute_reply.started": "2022-08-07T11:24:17.403193Z",
          "shell.execute_reply": "2022-08-07T11:24:17.622496Z"
        },
        "trusted": true,
        "id": "Pkv1Ex4rfOt8"
      },
      "execution_count": null,
      "outputs": []
    },
    {
      "cell_type": "markdown",
      "source": [
        "I finished the data review chapter. I reviewed the data and I visualized some data in the data visualization chapter. I will use a different library in the data visualization chapter this time."
      ],
      "metadata": {
        "id": "inMmnUsMfOt8"
      }
    },
    {
      "cell_type": "markdown",
      "source": [
        "# Data Visualization <a id = \"2\"></a>"
      ],
      "metadata": {
        "id": "8PXLsIeUfOt8"
      }
    },
    {
      "cell_type": "markdown",
      "source": [
        "#### I applied the plotly library to the dataset."
      ],
      "metadata": {
        "id": "JJW1hK4DfOt8"
      }
    },
    {
      "cell_type": "code",
      "source": [
        "# I visualized the number of age in the dataset.\n",
        "dataAge = data[\"Age\"].value_counts(dropna = False)\n",
        "npar_dataAge = np.array(dataAge)\n",
        "x = list(npar_dataAge)\n",
        "y = data.Age.value_counts().index\n",
        "\n",
        "DataAge = {\"Age\": y, \"Number\": x}\n",
        "DataAge = pd.DataFrame(DataAge)\n",
        "\n",
        "fig = px.bar(DataAge, x = \"Age\", y = \"Number\")\n",
        "fig.show()"
      ],
      "metadata": {
        "execution": {
          "iopub.status.busy": "2022-08-07T11:24:17.625961Z",
          "iopub.execute_input": "2022-08-07T11:24:17.626404Z",
          "iopub.status.idle": "2022-08-07T11:24:18.641289Z",
          "shell.execute_reply.started": "2022-08-07T11:24:17.626367Z",
          "shell.execute_reply": "2022-08-07T11:24:18.640028Z"
        },
        "trusted": true,
        "id": "JaJYa9kifOt8"
      },
      "execution_count": null,
      "outputs": []
    },
    {
      "cell_type": "code",
      "source": [
        "# I visualized the number of Sex in the dataset.\n",
        "colors = ['gold', 'mediumturquoise']\n",
        "\n",
        "fig = go.Figure(data = [go.Pie(labels= ['M', 'F'], values=[104, 96])])\n",
        "\n",
        "fig.update_traces(hoverinfo = 'label + percent', textinfo = 'value', textfont_size = 20,\n",
        "                 marker = dict(colors = colors, line = dict( color = '#000000', width = 2)))\n",
        "\n",
        "fig.show()"
      ],
      "metadata": {
        "execution": {
          "iopub.status.busy": "2022-08-07T11:24:18.64272Z",
          "iopub.execute_input": "2022-08-07T11:24:18.643241Z",
          "iopub.status.idle": "2022-08-07T11:24:18.690359Z",
          "shell.execute_reply.started": "2022-08-07T11:24:18.643204Z",
          "shell.execute_reply": "2022-08-07T11:24:18.688823Z"
        },
        "trusted": true,
        "id": "KH3EvHMkfOt8"
      },
      "execution_count": null,
      "outputs": []
    },
    {
      "cell_type": "code",
      "source": [
        "# I visualized the number of BP(Blood Pressure Levels) in the dataset.\n",
        "fig = px.bar(x = [\"HIGH\", \"LOW\", \"NORMAL\"], y = [77, 64, 59])\n",
        "\n",
        "fig.show()"
      ],
      "metadata": {
        "execution": {
          "iopub.status.busy": "2022-08-07T11:24:18.692541Z",
          "iopub.execute_input": "2022-08-07T11:24:18.693465Z",
          "iopub.status.idle": "2022-08-07T11:24:18.762552Z",
          "shell.execute_reply.started": "2022-08-07T11:24:18.69342Z",
          "shell.execute_reply": "2022-08-07T11:24:18.761277Z"
        },
        "trusted": true,
        "id": "4hZxBG9hfOt9"
      },
      "execution_count": null,
      "outputs": []
    },
    {
      "cell_type": "code",
      "source": [
        "# I visualized the number of Cholesterol in the dataset.\n",
        "fig = px.histogram(x = [\"HIGH\", \"NORMAL\"], y = [103, 97])\n",
        "fig.show()"
      ],
      "metadata": {
        "execution": {
          "iopub.status.busy": "2022-08-07T11:24:18.764229Z",
          "iopub.execute_input": "2022-08-07T11:24:18.765563Z",
          "iopub.status.idle": "2022-08-07T11:24:18.852128Z",
          "shell.execute_reply.started": "2022-08-07T11:24:18.765511Z",
          "shell.execute_reply": "2022-08-07T11:24:18.851175Z"
        },
        "trusted": true,
        "id": "qvYWNl4jfOt9"
      },
      "execution_count": null,
      "outputs": []
    },
    {
      "cell_type": "code",
      "source": [
        "# I visualized the number of Drug in the dataset.\n",
        "fig = go.Figure(data = [go.Pie(labels=[\"DrugY\",\"DrugX\",\"DrugA\",\"DrugC\",\"DrugB\"], values=[91,54,23,16,16])])\n",
        "\n",
        "fig.update_traces(hoverinfo = 'label + percent', textinfo = 'value', textfont_size = 20,\n",
        "                 marker = dict(colors = px.colors.sequential.RdBu, line = dict( color = '#000000', width = 2)))\n",
        "\n",
        "fig.show()"
      ],
      "metadata": {
        "execution": {
          "iopub.status.busy": "2022-08-07T11:24:18.853618Z",
          "iopub.execute_input": "2022-08-07T11:24:18.854736Z",
          "iopub.status.idle": "2022-08-07T11:24:18.873969Z",
          "shell.execute_reply.started": "2022-08-07T11:24:18.854693Z",
          "shell.execute_reply": "2022-08-07T11:24:18.872553Z"
        },
        "trusted": true,
        "id": "qZPjNNvofOt9"
      },
      "execution_count": null,
      "outputs": []
    },
    {
      "cell_type": "code",
      "source": [
        "# I visualized the relationship between age and Na_To_K(Na to Potassium Ration).\n",
        "fig = px.scatter(data, x = \"Na_to_K\", y=\"Age\", color=\"Drug\",\n",
        "                 size='Age', hover_data=['Na_to_K'])\n",
        "fig.show()"
      ],
      "metadata": {
        "execution": {
          "iopub.status.busy": "2022-08-07T11:24:18.875838Z",
          "iopub.execute_input": "2022-08-07T11:24:18.876534Z",
          "iopub.status.idle": "2022-08-07T11:24:18.995462Z",
          "shell.execute_reply.started": "2022-08-07T11:24:18.876497Z",
          "shell.execute_reply": "2022-08-07T11:24:18.994216Z"
        },
        "trusted": true,
        "id": "yR-qQT53fOt9"
      },
      "execution_count": null,
      "outputs": []
    },
    {
      "cell_type": "markdown",
      "source": [
        "# Classifications Models <a id = \"3\"></a>\n",
        "In this chapter, Firstly I will prepare the dataset for training and I will do training with models. I spoke about data inside columns of data during the Data review. Now I will convert string data to the integer type. I will split the dataset as train and test."
      ],
      "metadata": {
        "id": "Rdbfxj5GfOt9"
      }
    },
    {
      "cell_type": "markdown",
      "source": [
        "## Data Preparing <a id = \"cm1\"></a>"
      ],
      "metadata": {
        "id": "CxKAQR6VfOt9"
      }
    },
    {
      "cell_type": "code",
      "source": [
        "# I read the dataset with the pandas library again because I will change the dataset.\n",
        "# I don't want it to stir with the first reading.\n",
        "dataclass = pd.read_csv(\"/kaggle/input/drug-classification/drug200.csv\")"
      ],
      "metadata": {
        "execution": {
          "iopub.status.busy": "2022-08-07T11:24:18.997557Z",
          "iopub.execute_input": "2022-08-07T11:24:18.998354Z",
          "iopub.status.idle": "2022-08-07T11:24:19.008891Z",
          "shell.execute_reply.started": "2022-08-07T11:24:18.998293Z",
          "shell.execute_reply": "2022-08-07T11:24:19.007636Z"
        },
        "trusted": true,
        "id": "0dvQxpttfOt9"
      },
      "execution_count": null,
      "outputs": []
    },
    {
      "cell_type": "code",
      "source": [
        "dataclass"
      ],
      "metadata": {
        "execution": {
          "iopub.status.busy": "2022-08-07T11:24:19.01039Z",
          "iopub.execute_input": "2022-08-07T11:24:19.011214Z",
          "iopub.status.idle": "2022-08-07T11:24:19.030755Z",
          "shell.execute_reply.started": "2022-08-07T11:24:19.011176Z",
          "shell.execute_reply": "2022-08-07T11:24:19.02954Z"
        },
        "trusted": true,
        "id": "LGXSWnk6fOt9"
      },
      "execution_count": null,
      "outputs": []
    },
    {
      "cell_type": "code",
      "source": [
        "# I don't want to object type.\n",
        "dataclass.info()"
      ],
      "metadata": {
        "execution": {
          "iopub.status.busy": "2022-08-07T11:24:19.032322Z",
          "iopub.execute_input": "2022-08-07T11:24:19.032778Z",
          "iopub.status.idle": "2022-08-07T11:24:19.047535Z",
          "shell.execute_reply.started": "2022-08-07T11:24:19.03274Z",
          "shell.execute_reply": "2022-08-07T11:24:19.046514Z"
        },
        "trusted": true,
        "id": "7-OmzqxofOt9"
      },
      "execution_count": null,
      "outputs": []
    },
    {
      "cell_type": "code",
      "source": [
        "# Change Age type.\n",
        "# F = 1\n",
        "# M = 0\n",
        "dataclass.Sex = [1 if i == \"F\" else 0 for i in dataclass.Sex]"
      ],
      "metadata": {
        "execution": {
          "iopub.status.busy": "2022-08-07T11:24:19.04919Z",
          "iopub.execute_input": "2022-08-07T11:24:19.049717Z",
          "iopub.status.idle": "2022-08-07T11:24:19.056367Z",
          "shell.execute_reply.started": "2022-08-07T11:24:19.049676Z",
          "shell.execute_reply": "2022-08-07T11:24:19.054928Z"
        },
        "trusted": true,
        "id": "3I3RRDT8fOt9"
      },
      "execution_count": null,
      "outputs": []
    },
    {
      "cell_type": "code",
      "source": [
        "dataclass"
      ],
      "metadata": {
        "execution": {
          "iopub.status.busy": "2022-08-07T11:24:19.058319Z",
          "iopub.execute_input": "2022-08-07T11:24:19.059479Z",
          "iopub.status.idle": "2022-08-07T11:24:19.083899Z",
          "shell.execute_reply.started": "2022-08-07T11:24:19.05944Z",
          "shell.execute_reply": "2022-08-07T11:24:19.082576Z"
        },
        "trusted": true,
        "id": "KMa59j1wfOt9"
      },
      "execution_count": null,
      "outputs": []
    },
    {
      "cell_type": "code",
      "source": [
        "# Change BP(Blood Pressure Levels) type.\n",
        "# LOW = 2\n",
        "# NORMAL = 1\n",
        "# HIGH = 0\n",
        "\n",
        "import warnings\n",
        "warnings.filterwarnings('ignore')\n",
        "\n",
        "for i in range(0,len(dataclass.BP)):\n",
        "    if dataclass.BP[i] == \"LOW\":\n",
        "        dataclass.BP[i] = 2\n",
        "\n",
        "    elif dataclass.BP[i] == \"NORMAL\":\n",
        "        dataclass.BP[i] = 1\n",
        "\n",
        "    else:\n",
        "        dataclass.BP[i] = 0\n",
        ""
      ],
      "metadata": {
        "execution": {
          "iopub.status.busy": "2022-08-07T11:24:19.085819Z",
          "iopub.execute_input": "2022-08-07T11:24:19.086902Z",
          "iopub.status.idle": "2022-08-07T11:24:19.197212Z",
          "shell.execute_reply.started": "2022-08-07T11:24:19.086862Z",
          "shell.execute_reply": "2022-08-07T11:24:19.195623Z"
        },
        "trusted": true,
        "id": "PoTxbhdsfOt-"
      },
      "execution_count": null,
      "outputs": []
    },
    {
      "cell_type": "code",
      "source": [
        "dataclass"
      ],
      "metadata": {
        "execution": {
          "iopub.status.busy": "2022-08-07T11:24:19.199399Z",
          "iopub.execute_input": "2022-08-07T11:24:19.199966Z",
          "iopub.status.idle": "2022-08-07T11:24:19.229959Z",
          "shell.execute_reply.started": "2022-08-07T11:24:19.199894Z",
          "shell.execute_reply": "2022-08-07T11:24:19.228208Z"
        },
        "trusted": true,
        "id": "Pk7xah2tfOuD"
      },
      "execution_count": null,
      "outputs": []
    },
    {
      "cell_type": "code",
      "source": [
        "# Change Cholesterol type.\n",
        "# HIGH = 1\n",
        "# NORMAL = 0\n",
        "dataclass.Cholesterol = [1 if i == \"HIGH\" else 0 for i in dataclass.Cholesterol]"
      ],
      "metadata": {
        "execution": {
          "iopub.status.busy": "2022-08-07T11:24:19.241993Z",
          "iopub.execute_input": "2022-08-07T11:24:19.243416Z",
          "iopub.status.idle": "2022-08-07T11:24:19.249694Z",
          "shell.execute_reply.started": "2022-08-07T11:24:19.243334Z",
          "shell.execute_reply": "2022-08-07T11:24:19.248513Z"
        },
        "trusted": true,
        "id": "Ngv9cn7rfOuD"
      },
      "execution_count": null,
      "outputs": []
    },
    {
      "cell_type": "code",
      "source": [
        "dataclass"
      ],
      "metadata": {
        "execution": {
          "iopub.status.busy": "2022-08-07T11:24:19.251209Z",
          "iopub.execute_input": "2022-08-07T11:24:19.252006Z",
          "iopub.status.idle": "2022-08-07T11:24:19.277276Z",
          "shell.execute_reply.started": "2022-08-07T11:24:19.25197Z",
          "shell.execute_reply": "2022-08-07T11:24:19.276093Z"
        },
        "trusted": true,
        "id": "2-wm6rJffOuD"
      },
      "execution_count": null,
      "outputs": []
    },
    {
      "cell_type": "code",
      "source": [
        "# Change Drug type.\n",
        "# DrugY = 4\n",
        "# DrugX = 3\n",
        "# DrugA = 2\n",
        "# DrugC = 1\n",
        "# DrugB = 0\n",
        "\n",
        "import warnings\n",
        "warnings.filterwarnings('ignore')\n",
        "\n",
        "for i in range(0,len(dataclass)):\n",
        "    if dataclass.Drug[i] == \"DrugY\":\n",
        "        dataclass.Drug[i] = 4\n",
        "    elif dataclass.Drug[i] == \"drugX\":\n",
        "        dataclass.Drug[i] = 3\n",
        "    elif dataclass.Drug[i] == \"drugA\":\n",
        "        dataclass.Drug[i] = 2\n",
        "    elif dataclass.Drug[i] == \"drugC\":\n",
        "        dataclass.Drug[i] = 1\n",
        "    else:\n",
        "        dataclass.Drug[i] = 0"
      ],
      "metadata": {
        "execution": {
          "iopub.status.busy": "2022-08-07T11:24:19.278653Z",
          "iopub.execute_input": "2022-08-07T11:24:19.2797Z",
          "iopub.status.idle": "2022-08-07T11:24:19.38244Z",
          "shell.execute_reply.started": "2022-08-07T11:24:19.279638Z",
          "shell.execute_reply": "2022-08-07T11:24:19.38099Z"
        },
        "trusted": true,
        "id": "Sp2bARVYfOuE"
      },
      "execution_count": null,
      "outputs": []
    },
    {
      "cell_type": "code",
      "source": [
        "# It is the final form of the dataset.\n",
        "dataclass"
      ],
      "metadata": {
        "execution": {
          "iopub.status.busy": "2022-08-07T11:24:19.384308Z",
          "iopub.execute_input": "2022-08-07T11:24:19.38468Z",
          "iopub.status.idle": "2022-08-07T11:24:19.40898Z",
          "shell.execute_reply.started": "2022-08-07T11:24:19.384635Z",
          "shell.execute_reply": "2022-08-07T11:24:19.40807Z"
        },
        "trusted": true,
        "id": "CvuNGY9pfOuE"
      },
      "execution_count": null,
      "outputs": []
    },
    {
      "cell_type": "code",
      "source": [
        "# I check again because possible unchanged types.\n",
        "dataclass.info()"
      ],
      "metadata": {
        "execution": {
          "iopub.status.busy": "2022-08-07T11:24:19.410503Z",
          "iopub.execute_input": "2022-08-07T11:24:19.411038Z",
          "iopub.status.idle": "2022-08-07T11:24:19.42767Z",
          "shell.execute_reply.started": "2022-08-07T11:24:19.411004Z",
          "shell.execute_reply": "2022-08-07T11:24:19.426219Z"
        },
        "trusted": true,
        "id": "68JdzpPXfOuE"
      },
      "execution_count": null,
      "outputs": []
    },
    {
      "cell_type": "code",
      "source": [
        "# I saw don't change two columns of type and I change them to integer types.\n",
        "data_types_dict = {'BP': int, \"Drug\": int}\n",
        "\n",
        "dataclass = dataclass.astype(data_types_dict)\n",
        "\n",
        "dataclass.info()"
      ],
      "metadata": {
        "execution": {
          "iopub.status.busy": "2022-08-07T11:24:19.429649Z",
          "iopub.execute_input": "2022-08-07T11:24:19.430843Z",
          "iopub.status.idle": "2022-08-07T11:24:19.452499Z",
          "shell.execute_reply.started": "2022-08-07T11:24:19.43079Z",
          "shell.execute_reply": "2022-08-07T11:24:19.451171Z"
        },
        "trusted": true,
        "id": "IFDR-jbRfOuE"
      },
      "execution_count": null,
      "outputs": []
    },
    {
      "cell_type": "code",
      "source": [
        "# x_data\n",
        "x_data = dataclass.drop([\"Drug\"], axis = 1)\n",
        "\n",
        "#y_data\n",
        "y_data = dataclass.Drug.values"
      ],
      "metadata": {
        "execution": {
          "iopub.status.busy": "2022-08-07T11:24:19.454507Z",
          "iopub.execute_input": "2022-08-07T11:24:19.455252Z",
          "iopub.status.idle": "2022-08-07T11:24:19.462337Z",
          "shell.execute_reply.started": "2022-08-07T11:24:19.455182Z",
          "shell.execute_reply": "2022-08-07T11:24:19.461364Z"
        },
        "trusted": true,
        "id": "-JaIbZ3lfOuE"
      },
      "execution_count": null,
      "outputs": []
    },
    {
      "cell_type": "code",
      "source": [
        "x_data"
      ],
      "metadata": {
        "execution": {
          "iopub.status.busy": "2022-08-07T11:24:19.464411Z",
          "iopub.execute_input": "2022-08-07T11:24:19.464991Z",
          "iopub.status.idle": "2022-08-07T11:24:19.483467Z",
          "shell.execute_reply.started": "2022-08-07T11:24:19.464954Z",
          "shell.execute_reply": "2022-08-07T11:24:19.482569Z"
        },
        "trusted": true,
        "id": "2jv6l2gDfOuE"
      },
      "execution_count": null,
      "outputs": []
    },
    {
      "cell_type": "code",
      "source": [
        "y_data"
      ],
      "metadata": {
        "execution": {
          "iopub.status.busy": "2022-08-07T11:24:19.484604Z",
          "iopub.execute_input": "2022-08-07T11:24:19.485561Z",
          "iopub.status.idle": "2022-08-07T11:24:19.494013Z",
          "shell.execute_reply.started": "2022-08-07T11:24:19.485525Z",
          "shell.execute_reply": "2022-08-07T11:24:19.492975Z"
        },
        "trusted": true,
        "id": "WaA_VLsHfOuF"
      },
      "execution_count": null,
      "outputs": []
    },
    {
      "cell_type": "code",
      "source": [
        "# Train test split\n",
        "from sklearn.model_selection import train_test_split\n",
        "x_train, x_test, y_train, y_test = train_test_split(x_data, y_data, test_size=0.3, random_state=1)"
      ],
      "metadata": {
        "execution": {
          "iopub.status.busy": "2022-08-07T11:24:19.495361Z",
          "iopub.execute_input": "2022-08-07T11:24:19.496324Z",
          "iopub.status.idle": "2022-08-07T11:24:19.640434Z",
          "shell.execute_reply.started": "2022-08-07T11:24:19.496287Z",
          "shell.execute_reply": "2022-08-07T11:24:19.639361Z"
        },
        "trusted": true,
        "id": "TdMFN5kTfOuF"
      },
      "execution_count": null,
      "outputs": []
    },
    {
      "cell_type": "markdown",
      "source": [
        "## Decision Tree Classifier <a id = \"cm2\"></a>\n",
        "\n",
        "**What is The Decision Tree Classifier?**<br>\n",
        "Decision Tree is a Supervised learning technique that can be used for both classification and Regression problems, but mostly it is preferred for solving Classification problems. It is a tree-structured classifier, where internal nodes represent the features of a dataset, branches represent the decision rules and each leaf node represents the outcome.\n"
      ],
      "metadata": {
        "id": "14PWaFMZfOuF"
      }
    },
    {
      "cell_type": "code",
      "source": [
        "from sklearn.tree import DecisionTreeClassifier\n",
        "from sklearn import metrics\n",
        "\n",
        "dtc = DecisionTreeClassifier()\n",
        "\n",
        "# Fit the model\n",
        "dtc.fit(x_train, y_train)\n",
        "\n",
        "# Predict the x_test\n",
        "predict = dtc.predict(x_test)\n",
        "\n",
        "print('The accuracy of the Decision Tree is',metrics.accuracy_score(predict,y_test))"
      ],
      "metadata": {
        "execution": {
          "iopub.status.busy": "2022-08-07T11:24:19.642024Z",
          "iopub.execute_input": "2022-08-07T11:24:19.642552Z",
          "iopub.status.idle": "2022-08-07T11:24:19.812646Z",
          "shell.execute_reply.started": "2022-08-07T11:24:19.642504Z",
          "shell.execute_reply": "2022-08-07T11:24:19.811208Z"
        },
        "trusted": true,
        "id": "qhszDc8sfOuF"
      },
      "execution_count": null,
      "outputs": []
    },
    {
      "cell_type": "markdown",
      "source": [
        "### Decision Tree Classifier with \"gini\""
      ],
      "metadata": {
        "id": "q4pWCBhffOuF"
      }
    },
    {
      "cell_type": "code",
      "source": [
        "DTC_gini = DecisionTreeClassifier(criterion='gini', max_depth=3, random_state=0)\n",
        "\n",
        "\n",
        "# Fit the model\n",
        "DTC_gini.fit(x_train, y_train)"
      ],
      "metadata": {
        "execution": {
          "iopub.status.busy": "2022-08-07T11:24:19.814076Z",
          "iopub.execute_input": "2022-08-07T11:24:19.814522Z",
          "iopub.status.idle": "2022-08-07T11:24:19.830276Z",
          "shell.execute_reply.started": "2022-08-07T11:24:19.814477Z",
          "shell.execute_reply": "2022-08-07T11:24:19.829175Z"
        },
        "trusted": true,
        "id": "lgOcl1VLfOuF"
      },
      "execution_count": null,
      "outputs": []
    },
    {
      "cell_type": "code",
      "source": [
        "y_pred_gini = DTC_gini.predict(x_test)"
      ],
      "metadata": {
        "execution": {
          "iopub.status.busy": "2022-08-07T11:24:19.83151Z",
          "iopub.execute_input": "2022-08-07T11:24:19.83251Z",
          "iopub.status.idle": "2022-08-07T11:24:19.840368Z",
          "shell.execute_reply.started": "2022-08-07T11:24:19.832467Z",
          "shell.execute_reply": "2022-08-07T11:24:19.839372Z"
        },
        "trusted": true,
        "id": "CW2r4cl8fOuF"
      },
      "execution_count": null,
      "outputs": []
    },
    {
      "cell_type": "code",
      "source": [
        "from sklearn.metrics import accuracy_score\n",
        "\n",
        "print('Model accuracy score with criterion gini index: {0:0.4f}'. format(accuracy_score(y_test, y_pred_gini)))"
      ],
      "metadata": {
        "execution": {
          "iopub.status.busy": "2022-08-07T11:24:19.841863Z",
          "iopub.execute_input": "2022-08-07T11:24:19.842257Z",
          "iopub.status.idle": "2022-08-07T11:24:19.852149Z",
          "shell.execute_reply.started": "2022-08-07T11:24:19.842225Z",
          "shell.execute_reply": "2022-08-07T11:24:19.851348Z"
        },
        "trusted": true,
        "id": "WvPKbntJfOuG"
      },
      "execution_count": null,
      "outputs": []
    },
    {
      "cell_type": "code",
      "source": [
        "y_pred_train_gini = DTC_gini.predict(x_train)\n",
        "\n",
        "y_pred_train_gini"
      ],
      "metadata": {
        "execution": {
          "iopub.status.busy": "2022-08-07T11:24:19.853351Z",
          "iopub.execute_input": "2022-08-07T11:24:19.853864Z",
          "iopub.status.idle": "2022-08-07T11:24:19.869035Z",
          "shell.execute_reply.started": "2022-08-07T11:24:19.853831Z",
          "shell.execute_reply": "2022-08-07T11:24:19.867912Z"
        },
        "trusted": true,
        "id": "OOuso5GhfOuG"
      },
      "execution_count": null,
      "outputs": []
    },
    {
      "cell_type": "code",
      "source": [
        "print('Training-set accuracy score: {0:0.4f}'. format(accuracy_score(y_train, y_pred_train_gini)))"
      ],
      "metadata": {
        "execution": {
          "iopub.status.busy": "2022-08-07T11:24:19.870406Z",
          "iopub.execute_input": "2022-08-07T11:24:19.870928Z",
          "iopub.status.idle": "2022-08-07T11:24:19.879789Z",
          "shell.execute_reply.started": "2022-08-07T11:24:19.870896Z",
          "shell.execute_reply": "2022-08-07T11:24:19.878928Z"
        },
        "trusted": true,
        "id": "81pzslfpfOuG"
      },
      "execution_count": null,
      "outputs": []
    },
    {
      "cell_type": "code",
      "source": [
        "# Print the scores on training and test set\n",
        "\n",
        "print('Training set score: {:.4f}'.format(DTC_gini.score(x_train, y_train)))\n",
        "\n",
        "print('Test set score: {:.4f}'.format(DTC_gini.score(x_test, y_test)))"
      ],
      "metadata": {
        "execution": {
          "iopub.status.busy": "2022-08-07T11:24:19.88108Z",
          "iopub.execute_input": "2022-08-07T11:24:19.881582Z",
          "iopub.status.idle": "2022-08-07T11:24:19.894635Z",
          "shell.execute_reply.started": "2022-08-07T11:24:19.88155Z",
          "shell.execute_reply": "2022-08-07T11:24:19.893847Z"
        },
        "trusted": true,
        "id": "gP1EcLdsfOuG"
      },
      "execution_count": null,
      "outputs": []
    },
    {
      "cell_type": "markdown",
      "source": [
        "### Decision Tree Classifier with \"entropy\""
      ],
      "metadata": {
        "id": "lDQanBN-fOuG"
      }
    },
    {
      "cell_type": "code",
      "source": [
        "# instantiate the DecisionTreeClassifier model with criterion entropy\n",
        "DTC_en = DecisionTreeClassifier(criterion='entropy', max_depth=3, random_state=0)\n",
        "\n",
        "\n",
        "# Fit the model\n",
        "DTC_en.fit(x_train, y_train)"
      ],
      "metadata": {
        "execution": {
          "iopub.status.busy": "2022-08-07T11:24:19.895757Z",
          "iopub.execute_input": "2022-08-07T11:24:19.896532Z",
          "iopub.status.idle": "2022-08-07T11:24:19.907857Z",
          "shell.execute_reply.started": "2022-08-07T11:24:19.8965Z",
          "shell.execute_reply": "2022-08-07T11:24:19.907073Z"
        },
        "trusted": true,
        "id": "FR_QthMKfOuG"
      },
      "execution_count": null,
      "outputs": []
    },
    {
      "cell_type": "code",
      "source": [
        "y_pred_en = DTC_en.predict(x_test)"
      ],
      "metadata": {
        "execution": {
          "iopub.status.busy": "2022-08-07T11:24:19.909183Z",
          "iopub.execute_input": "2022-08-07T11:24:19.909669Z",
          "iopub.status.idle": "2022-08-07T11:24:19.916863Z",
          "shell.execute_reply.started": "2022-08-07T11:24:19.909638Z",
          "shell.execute_reply": "2022-08-07T11:24:19.916134Z"
        },
        "trusted": true,
        "id": "uMpVlsQZfOuG"
      },
      "execution_count": null,
      "outputs": []
    },
    {
      "cell_type": "code",
      "source": [
        "print('Model accuracy score with criterion entropy: {0:0.4f}'. format(accuracy_score(y_test, y_pred_en)))"
      ],
      "metadata": {
        "execution": {
          "iopub.status.busy": "2022-08-07T11:24:19.918111Z",
          "iopub.execute_input": "2022-08-07T11:24:19.918619Z",
          "iopub.status.idle": "2022-08-07T11:24:19.930587Z",
          "shell.execute_reply.started": "2022-08-07T11:24:19.918588Z",
          "shell.execute_reply": "2022-08-07T11:24:19.929208Z"
        },
        "trusted": true,
        "id": "8Klk39D2fOuH"
      },
      "execution_count": null,
      "outputs": []
    },
    {
      "cell_type": "code",
      "source": [
        "y_pred_train_en = DTC_en.predict(x_train)\n",
        "\n",
        "y_pred_train_en"
      ],
      "metadata": {
        "execution": {
          "iopub.status.busy": "2022-08-07T11:24:19.932689Z",
          "iopub.execute_input": "2022-08-07T11:24:19.933218Z",
          "iopub.status.idle": "2022-08-07T11:24:19.946113Z",
          "shell.execute_reply.started": "2022-08-07T11:24:19.93317Z",
          "shell.execute_reply": "2022-08-07T11:24:19.944785Z"
        },
        "trusted": true,
        "id": "UmwdUjPJfOuH"
      },
      "execution_count": null,
      "outputs": []
    },
    {
      "cell_type": "code",
      "source": [
        "print('Training-set accuracy score: {0:0.4f}'. format(accuracy_score(y_train, y_pred_train_en)))"
      ],
      "metadata": {
        "execution": {
          "iopub.status.busy": "2022-08-07T11:24:19.948101Z",
          "iopub.execute_input": "2022-08-07T11:24:19.948948Z",
          "iopub.status.idle": "2022-08-07T11:24:19.958043Z",
          "shell.execute_reply.started": "2022-08-07T11:24:19.948899Z",
          "shell.execute_reply": "2022-08-07T11:24:19.957071Z"
        },
        "trusted": true,
        "id": "Zu2jed4CfOuH"
      },
      "execution_count": null,
      "outputs": []
    },
    {
      "cell_type": "code",
      "source": [
        "# print the scores on training and test set\n",
        "\n",
        "print('Training set score: {:.4f}'.format(DTC_en.score(x_train, y_train)))\n",
        "\n",
        "print('Test set score: {:.4f}'.format(DTC_en.score(x_test, y_test)))"
      ],
      "metadata": {
        "execution": {
          "iopub.status.busy": "2022-08-07T11:24:19.959643Z",
          "iopub.execute_input": "2022-08-07T11:24:19.960304Z",
          "iopub.status.idle": "2022-08-07T11:24:19.974592Z",
          "shell.execute_reply.started": "2022-08-07T11:24:19.960268Z",
          "shell.execute_reply": "2022-08-07T11:24:19.973175Z"
        },
        "trusted": true,
        "id": "yxGCEdQxfOuH"
      },
      "execution_count": null,
      "outputs": []
    },
    {
      "cell_type": "markdown",
      "source": [
        "## Random Forest Classifier <a id = \"cm3\"></a>\n",
        "\n",
        "**What is The Random Forest Classifier?**<br>\n",
        "Random Forest is a popular machine learning algorithm that belongs to the supervised learning technique. It can be used for both Classification and Regression problems in ML. It is based on the concept of ensemble learning, which is a process of combining multiple classifiers to solve a complex problem and to improve the performance of the model."
      ],
      "metadata": {
        "id": "r_Sox6dgfOuH"
      }
    },
    {
      "cell_type": "code",
      "source": [
        "from sklearn.ensemble import RandomForestClassifier\n",
        "\n",
        "rfc = RandomForestClassifier(random_state = 0)\n",
        "\n",
        "# Fit the model\n",
        "rfc.fit(x_train, y_train)\n",
        "\n",
        "# Predict the model\n",
        "predict = rfc.predict(x_test)\n",
        "\n",
        "print('The accuracy of the Random Forest is',metrics.accuracy_score(predict,y_test))"
      ],
      "metadata": {
        "execution": {
          "iopub.status.busy": "2022-08-07T11:24:19.97623Z",
          "iopub.execute_input": "2022-08-07T11:24:19.976935Z",
          "iopub.status.idle": "2022-08-07T11:24:20.212337Z",
          "shell.execute_reply.started": "2022-08-07T11:24:19.976895Z",
          "shell.execute_reply": "2022-08-07T11:24:20.209664Z"
        },
        "trusted": true,
        "id": "4LWEYmaQfOuH"
      },
      "execution_count": null,
      "outputs": []
    },
    {
      "cell_type": "markdown",
      "source": [
        "### Random Forest Classifier with \"n_estimators=100\""
      ],
      "metadata": {
        "id": "iuBUgp4lfOuH"
      }
    },
    {
      "cell_type": "code",
      "source": [
        "from sklearn.ensemble import RandomForestClassifier\n",
        "\n",
        "rfc_100 = RandomForestClassifier(n_estimators=100, random_state=0)\n",
        "\n",
        "# Fit the model\n",
        "rfc_100.fit(x_train, y_train)\n",
        "\n",
        "# Predict the model\n",
        "predict = rfc_100.predict(x_test)\n",
        "\n",
        "print('The accuracy of the Random Forest is',metrics.accuracy_score(predict,y_test))"
      ],
      "metadata": {
        "execution": {
          "iopub.status.busy": "2022-08-07T11:24:20.214105Z",
          "iopub.execute_input": "2022-08-07T11:24:20.214933Z",
          "iopub.status.idle": "2022-08-07T11:24:20.38871Z",
          "shell.execute_reply.started": "2022-08-07T11:24:20.214877Z",
          "shell.execute_reply": "2022-08-07T11:24:20.38763Z"
        },
        "trusted": true,
        "id": "JxcMFiOzfOuH"
      },
      "execution_count": null,
      "outputs": []
    },
    {
      "cell_type": "code",
      "source": [
        "# In this chapter, I want to find the best random_state value.\n",
        "test_score_list = []\n",
        "train_score_list = []\n",
        "\n",
        "for i in range(0,10):\n",
        "    rfc2 = RandomForestClassifier(random_state=i)\n",
        "    rfc2.fit(x_train, y_train)\n",
        "    test_score_list.append(rfc2.score(x_test, y_test))\n",
        "    train_score_list.append(rfc2.score(x_train, y_train))\n",
        "\n",
        "plt.figure(figsize=(15,5))\n",
        "p = sns.lineplot(range(0,10),train_score_list,marker='*',label='Train Score')\n",
        "p = sns.lineplot(range(0,10),test_score_list,marker='o',label='Test Score')"
      ],
      "metadata": {
        "execution": {
          "iopub.status.busy": "2022-08-07T11:24:20.390165Z",
          "iopub.execute_input": "2022-08-07T11:24:20.390528Z",
          "iopub.status.idle": "2022-08-07T11:24:22.382084Z",
          "shell.execute_reply.started": "2022-08-07T11:24:20.390494Z",
          "shell.execute_reply": "2022-08-07T11:24:22.380969Z"
        },
        "trusted": true,
        "id": "rFZ_d3VGfOuH"
      },
      "execution_count": null,
      "outputs": []
    },
    {
      "cell_type": "code",
      "source": [
        "# I found the best random_stete value is five. Now I will find the best n_estimators parameter.\n",
        "test_score_list = []\n",
        "train_score_list = []\n",
        "\n",
        "list_n_estimators = [10,20,30,40,50,60,70,80,90,100]\n",
        "\n",
        "\n",
        "for i in range(0,len(list_n_estimators)):\n",
        "    rfc3 = RandomForestClassifier(n_estimators=list_n_estimators[i], random_state=5)\n",
        "    rfc3.fit(x_train, y_train)\n",
        "    test_score_list.append(rfc3.score(x_test, y_test))\n",
        "    train_score_list.append(rfc3.score(x_train, y_train))\n",
        "\n",
        "plt.figure(figsize=(15,5))\n",
        "p = sns.lineplot(range(0,len(list_n_estimators)),train_score_list,marker='*',label='Train Score')\n",
        "p = sns.lineplot(range(0,len(list_n_estimators)),test_score_list,marker='o',label='Test Score')"
      ],
      "metadata": {
        "execution": {
          "iopub.status.busy": "2022-08-07T11:24:22.383636Z",
          "iopub.execute_input": "2022-08-07T11:24:22.384251Z",
          "iopub.status.idle": "2022-08-07T11:24:23.623538Z",
          "shell.execute_reply.started": "2022-08-07T11:24:22.384217Z",
          "shell.execute_reply": "2022-08-07T11:24:23.622383Z"
        },
        "trusted": true,
        "id": "yEnK5dGWfOuI"
      },
      "execution_count": null,
      "outputs": []
    },
    {
      "cell_type": "markdown",
      "source": [
        "### Random Forest Classifier With The Best Parameters"
      ],
      "metadata": {
        "id": "znzRUyG0fOuI"
      }
    },
    {
      "cell_type": "code",
      "source": [
        "last_rfc = RandomForestClassifier(n_estimators=100, random_state=5)\n",
        "\n",
        "# fit the model\n",
        "last_rfc.fit(x_train,y_train)\n",
        "\n",
        "predict = last_rfc.predict(x_test)\n",
        "\n",
        "print('The accuracy of the Random Forest is',metrics.accuracy_score(predict,y_test))"
      ],
      "metadata": {
        "execution": {
          "iopub.status.busy": "2022-08-07T11:24:23.625141Z",
          "iopub.execute_input": "2022-08-07T11:24:23.62548Z",
          "iopub.status.idle": "2022-08-07T11:24:23.792582Z",
          "shell.execute_reply.started": "2022-08-07T11:24:23.625449Z",
          "shell.execute_reply": "2022-08-07T11:24:23.791233Z"
        },
        "trusted": true,
        "id": "ZEOQaUKSfOuI"
      },
      "execution_count": null,
      "outputs": []
    },
    {
      "cell_type": "code",
      "source": [
        "y_pred_en = last_rfc.predict(x_test)"
      ],
      "metadata": {
        "execution": {
          "iopub.status.busy": "2022-08-07T11:24:23.794146Z",
          "iopub.execute_input": "2022-08-07T11:24:23.794528Z",
          "iopub.status.idle": "2022-08-07T11:24:23.815491Z",
          "shell.execute_reply.started": "2022-08-07T11:24:23.794491Z",
          "shell.execute_reply": "2022-08-07T11:24:23.814423Z"
        },
        "trusted": true,
        "id": "8DWpn3WdfOuI"
      },
      "execution_count": null,
      "outputs": []
    },
    {
      "cell_type": "code",
      "source": [
        "print('Model accuracy score with best parameters: {0:0.4f}'. format(accuracy_score(y_test, y_pred_en)))"
      ],
      "metadata": {
        "execution": {
          "iopub.status.busy": "2022-08-07T11:24:23.81696Z",
          "iopub.execute_input": "2022-08-07T11:24:23.817319Z",
          "iopub.status.idle": "2022-08-07T11:24:23.824055Z",
          "shell.execute_reply.started": "2022-08-07T11:24:23.817286Z",
          "shell.execute_reply": "2022-08-07T11:24:23.823182Z"
        },
        "trusted": true,
        "id": "Efdybvh4fOuI"
      },
      "execution_count": null,
      "outputs": []
    },
    {
      "cell_type": "code",
      "source": [
        "y_pred_train_en = last_rfc.predict(x_train)\n",
        "\n",
        "y_pred_train_en"
      ],
      "metadata": {
        "execution": {
          "iopub.status.busy": "2022-08-07T11:24:23.82555Z",
          "iopub.execute_input": "2022-08-07T11:24:23.826171Z",
          "iopub.status.idle": "2022-08-07T11:24:23.858217Z",
          "shell.execute_reply.started": "2022-08-07T11:24:23.826112Z",
          "shell.execute_reply": "2022-08-07T11:24:23.857015Z"
        },
        "trusted": true,
        "id": "9I5im9uQfOuI"
      },
      "execution_count": null,
      "outputs": []
    },
    {
      "cell_type": "code",
      "source": [
        "print('Training-set accuracy score: {0:0.4f}'. format(accuracy_score(y_train, y_pred_train_en)))"
      ],
      "metadata": {
        "execution": {
          "iopub.status.busy": "2022-08-07T11:24:23.859925Z",
          "iopub.execute_input": "2022-08-07T11:24:23.860627Z",
          "iopub.status.idle": "2022-08-07T11:24:23.868385Z",
          "shell.execute_reply.started": "2022-08-07T11:24:23.860578Z",
          "shell.execute_reply": "2022-08-07T11:24:23.867444Z"
        },
        "trusted": true,
        "id": "zOSTC2MpfOuI"
      },
      "execution_count": null,
      "outputs": []
    },
    {
      "cell_type": "code",
      "source": [
        "# print the scores with best parameters on training and test set\n",
        "\n",
        "print('Training set score: {:.4f}'.format(last_rfc.score(x_train, y_train)))\n",
        "\n",
        "print('Test set score: {:.4f}'.format(last_rfc.score(x_test, y_test)))"
      ],
      "metadata": {
        "execution": {
          "iopub.status.busy": "2022-08-07T11:24:23.869725Z",
          "iopub.execute_input": "2022-08-07T11:24:23.870922Z",
          "iopub.status.idle": "2022-08-07T11:24:23.914173Z",
          "shell.execute_reply.started": "2022-08-07T11:24:23.870886Z",
          "shell.execute_reply": "2022-08-07T11:24:23.912706Z"
        },
        "trusted": true,
        "id": "wAh1-DYFfOuI"
      },
      "execution_count": null,
      "outputs": []
    },
    {
      "cell_type": "markdown",
      "source": [
        "## Evaluation Classification Models <a id = \"cm4\"></a>\n",
        "\n",
        "**What is The Evaluation Classification Models?**<br>\n",
        "Evaluating the performance of a Machine learning model is one of the important steps while building an effective ML model. To evaluate the performance or quality of the model, different metrics are used, and these metrics are known as performance metrics or evaluation metrics."
      ],
      "metadata": {
        "id": "KYpOZLBcfOuJ"
      }
    },
    {
      "cell_type": "markdown",
      "source": [
        "### Confusion Matrix <a id = \"cm4-1\"></a>\n",
        "\n",
        "**What is The Confusion Matrix?**<br>\n",
        "A confusion matrix is a tabular representation of prediction outcomes of any binary classifier, which is used to describe the performance of the classification model on a set of test data when true values are known."
      ],
      "metadata": {
        "id": "Db7D9-HYfOuJ"
      }
    },
    {
      "cell_type": "markdown",
      "source": [
        "#### Confusion Matrix For DecisionTreeClassifier Without Parameters"
      ],
      "metadata": {
        "id": "rZgNEulpfOuJ"
      }
    },
    {
      "cell_type": "code",
      "source": [
        "# For Desicion Tree\n",
        "from sklearn.tree import DecisionTreeClassifier\n",
        "from sklearn.metrics import confusion_matrix\n",
        "\n",
        "cm_des = DecisionTreeClassifier()\n",
        "\n",
        "# fit the model\n",
        "cm_des.fit(x_train,y_train)\n",
        "\n",
        "y_pred_cm = cm_des.predict(x_test)\n",
        "y_true = y_test\n",
        "\n",
        "cm_des1 = confusion_matrix( y_true, y_pred_cm)\n",
        "cm_des1"
      ],
      "metadata": {
        "execution": {
          "iopub.status.busy": "2022-08-07T11:24:23.916276Z",
          "iopub.execute_input": "2022-08-07T11:24:23.917084Z",
          "iopub.status.idle": "2022-08-07T11:24:23.934905Z",
          "shell.execute_reply.started": "2022-08-07T11:24:23.917031Z",
          "shell.execute_reply": "2022-08-07T11:24:23.933559Z"
        },
        "trusted": true,
        "id": "sw9ZkMFIfOuJ"
      },
      "execution_count": null,
      "outputs": []
    },
    {
      "cell_type": "code",
      "source": [
        "f, ax = plt.subplots(figsize = (7,5))\n",
        "sns.heatmap(cm_des1, annot = True, linewidths=0.5, linecolor=\"red\", fmt = \".0f\", ax = ax)\n",
        "plt.xlabel(\"y_pred\")\n",
        "plt.ylabel(\"y_true\")\n",
        "plt.show()"
      ],
      "metadata": {
        "execution": {
          "iopub.status.busy": "2022-08-07T11:24:23.937579Z",
          "iopub.execute_input": "2022-08-07T11:24:23.938421Z",
          "iopub.status.idle": "2022-08-07T11:24:24.258649Z",
          "shell.execute_reply.started": "2022-08-07T11:24:23.938369Z",
          "shell.execute_reply": "2022-08-07T11:24:24.257522Z"
        },
        "trusted": true,
        "id": "7DSROPCJfOuJ"
      },
      "execution_count": null,
      "outputs": []
    },
    {
      "cell_type": "markdown",
      "source": [
        "#### Confusion Matrix For Decision Tree Classifier With \"gini\""
      ],
      "metadata": {
        "id": "fWue8B7dfOuJ"
      }
    },
    {
      "cell_type": "code",
      "source": [
        "cm_des_gini = DecisionTreeClassifier(criterion='gini', max_depth=3, random_state=0)\n",
        "\n",
        "# fit the model\n",
        "cm_des_gini.fit(x_train,y_train)\n",
        "\n",
        "y_pred_cm = cm_des_gini.predict(x_test)\n",
        "y_true = y_test\n",
        "\n",
        "cm_des2 = confusion_matrix( y_true, y_pred_cm)\n",
        "cm_des2"
      ],
      "metadata": {
        "execution": {
          "iopub.status.busy": "2022-08-07T11:24:24.26032Z",
          "iopub.execute_input": "2022-08-07T11:24:24.260676Z",
          "iopub.status.idle": "2022-08-07T11:24:24.275497Z",
          "shell.execute_reply.started": "2022-08-07T11:24:24.260645Z",
          "shell.execute_reply": "2022-08-07T11:24:24.27421Z"
        },
        "trusted": true,
        "id": "jHgQ1VVNfOuK"
      },
      "execution_count": null,
      "outputs": []
    },
    {
      "cell_type": "code",
      "source": [
        "f, ax = plt.subplots(figsize = (7,5))\n",
        "sns.heatmap(cm_des2, annot = True, linewidths=0.5, linecolor=\"red\", fmt = \".0f\", ax = ax)\n",
        "plt.xlabel(\"y_pred\")\n",
        "plt.ylabel(\"y_true\")\n",
        "plt.show()"
      ],
      "metadata": {
        "execution": {
          "iopub.status.busy": "2022-08-07T11:24:24.276856Z",
          "iopub.execute_input": "2022-08-07T11:24:24.277215Z",
          "iopub.status.idle": "2022-08-07T11:24:24.584101Z",
          "shell.execute_reply.started": "2022-08-07T11:24:24.277182Z",
          "shell.execute_reply": "2022-08-07T11:24:24.582961Z"
        },
        "trusted": true,
        "id": "-zKE5bqlfOuK"
      },
      "execution_count": null,
      "outputs": []
    },
    {
      "cell_type": "markdown",
      "source": [
        "#### Confusion Matrix For Random Forest Classifier With The Best Parameters"
      ],
      "metadata": {
        "id": "27HU_ICKfOuK"
      }
    },
    {
      "cell_type": "code",
      "source": [
        "cm_last_rfc = RandomForestClassifier(n_estimators=100, random_state=5)\n",
        "\n",
        "# Fit The Model\n",
        "cm_last_rfc.fit(x_train, y_train)\n",
        "\n",
        "y_pred_cm = cm_last_rfc.predict(x_test)\n",
        "y_true = y_test\n",
        "\n",
        "cm_rfc = confusion_matrix(y_true, y_pred_cm)\n",
        "cm_rfc"
      ],
      "metadata": {
        "execution": {
          "iopub.status.busy": "2022-08-07T11:24:24.585655Z",
          "iopub.execute_input": "2022-08-07T11:24:24.586037Z",
          "iopub.status.idle": "2022-08-07T11:24:24.757141Z",
          "shell.execute_reply.started": "2022-08-07T11:24:24.586002Z",
          "shell.execute_reply": "2022-08-07T11:24:24.755571Z"
        },
        "trusted": true,
        "id": "JcqSsB_afOuK"
      },
      "execution_count": null,
      "outputs": []
    },
    {
      "cell_type": "code",
      "source": [
        "f, ax = plt.subplots(figsize = (7,5))\n",
        "sns.heatmap(cm_rfc, annot = True, linewidths=0.5, linecolor=\"red\", fmt = \".0f\", ax = ax)\n",
        "plt.xlabel(\"y_pred\")\n",
        "plt.ylabel(\"y_true\")\n",
        "plt.show()"
      ],
      "metadata": {
        "execution": {
          "iopub.status.busy": "2022-08-07T11:24:24.75878Z",
          "iopub.execute_input": "2022-08-07T11:24:24.759229Z",
          "iopub.status.idle": "2022-08-07T11:24:25.07317Z",
          "shell.execute_reply.started": "2022-08-07T11:24:24.759191Z",
          "shell.execute_reply": "2022-08-07T11:24:25.071933Z"
        },
        "trusted": true,
        "id": "bfCvPtohfOuL"
      },
      "execution_count": null,
      "outputs": []
    },
    {
      "cell_type": "markdown",
      "source": [
        "# CONCLUSION\n",
        "I am learning the English language newly if I make an errata please advise me in the comment. Thank you for reading my notebook, your votes and your comments. I will be waiting for your advice."
      ],
      "metadata": {
        "id": "31iHe7bRfOuL"
      }
    }
  ]
}