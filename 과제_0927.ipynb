{
  "nbformat": 4,
  "nbformat_minor": 0,
  "metadata": {
    "colab": {
      "provenance": [],
      "authorship_tag": "ABX9TyPyqslBri1wLiJSXPCXqrax",
      "include_colab_link": true
    },
    "kernelspec": {
      "name": "python3",
      "display_name": "Python 3"
    },
    "language_info": {
      "name": "python"
    }
  },
  "cells": [
    {
      "cell_type": "markdown",
      "metadata": {
        "id": "view-in-github",
        "colab_type": "text"
      },
      "source": [
        "<a href=\"https://colab.research.google.com/github/Yujini68/ESAA/blob/main/%EA%B3%BC%EC%A0%9C_0927.ipynb\" target=\"_parent\"><img src=\"https://colab.research.google.com/assets/colab-badge.svg\" alt=\"Open In Colab\"/></a>"
      ]
    },
    {
      "cell_type": "markdown",
      "source": [
        "# CHAPTER 08 텍스트 분석\n",
        "\n",
        "## 01. 텍스트 분석의 이해\n",
        "\n",
        "비정형 데이터인 텍스트를 분석하는 것\n",
        "\n",
        "텍스트를 word 기반의 다수의 피처로 추출하고 이 피처에 단어 빈도수와 같은 숫자 값을 부여하면 텍스트는 단어의 조합인 벡터값으로 표현될 수 있는데, 이렇게 텍스트를 변환하는 것 -> 피처 벡터화, 피처 추출 ex. BOW, Word2Vec\n",
        "\n",
        "- 텍스트 분석 수행 프로세스\n",
        "\n",
        "1. 텍스트 사전 준비작업(텍스트 전처리)\n",
        "2. 피처 벡터화/추출\n",
        "3. ML 모델 수립 및 학습/예측/평가\n",
        "\n",
        "- 파이썬 기반의 NLP, 텍스트 분석 패키지\n",
        "\n",
        "NLTK(Natural Language Toolkit for Python): 방대한 데이터 세트와 서브 모듈을 가지고 있으며 NLP의 거의 모든 영역을 커버\n",
        "\n",
        "Gensim: 토픽 모델링 분야\n",
        "\n",
        "SpaCy: 뛰어난 수행 성능으로 최근 가장 주목을 받는 NLP 패키지\n",
        "\n",
        "## 02. 텍스트 사전 준비 작업(텍스트 전처리)-텍스트 정규화\n",
        "\n",
        "- 클렌징: 텍스트에서 분석에 방해가 되는 불필요한 문자, 기호 등을 사전에 제거하는 작업\n",
        "\n",
        "- 텍스트 토큰화\n",
        "\n",
        "문장 토큰화: 문장의 마침표(.), 개행문자(\\n) 등 문장의 마지막을 뜻하는 기호에 따라 분리하는 것이 일반적, 정규 표현식에 따른 문장 토큰화도 가능\n",
        "\n",
        "단어 토큰화: 문장을 단어로 토큰화하는 것, 기본적으로 공백, 콤마(,), 마침표(.), 개행문자 등으로 단어를 분리하지만, 정규 표현식을 이용해 다양한 유형으로 토큰화를 수행 가능"
      ],
      "metadata": {
        "id": "35m02WEdMqzO"
      }
    },
    {
      "cell_type": "code",
      "execution_count": 14,
      "metadata": {
        "id": "kiceVbMlMimn",
        "colab": {
          "base_uri": "https://localhost:8080/"
        },
        "outputId": "6873a5e4-a8bb-426a-82ef-e52d1ed956e4"
      },
      "outputs": [
        {
          "output_type": "stream",
          "name": "stdout",
          "text": [
            "<class 'list'> 3\n",
            "['The Matrix is everywhere its all around us, here even in this room.', 'You can see it out your window or on your television.', 'You feel it when you go to work, or go to church or pay your taxes.']\n"
          ]
        },
        {
          "output_type": "stream",
          "name": "stderr",
          "text": [
            "[nltk_data] Downloading package punkt to /root/nltk_data...\n",
            "[nltk_data]   Package punkt is already up-to-date!\n"
          ]
        }
      ],
      "source": [
        "from nltk import sent_tokenize\n",
        "import nltk\n",
        "nltk.download('punkt')\n",
        "text_sample = 'The Matrix is everywhere its all around us, here even in this room. \\\n",
        "You can see it out your window or on your television. \\\n",
        "You feel it when you go to work, or go to church or pay your taxes.'\n",
        "sentences = sent_tokenize(text=text_sample)\n",
        "print(type(sentences), len(sentences))\n",
        "print(sentences)"
      ]
    },
    {
      "cell_type": "code",
      "source": [
        "from nltk import word_tokenize\n",
        "\n",
        "sentence = \"The Matrix is everywhere its all around us, here even in this room.\"\n",
        "words = word_tokenize(sentence)\n",
        "print(type(words), len(words))\n",
        "print(words)"
      ],
      "metadata": {
        "colab": {
          "base_uri": "https://localhost:8080/"
        },
        "id": "pEE-ZT6vHKrS",
        "outputId": "ba945682-1f06-446c-c691-1199fa5420b8"
      },
      "execution_count": 15,
      "outputs": [
        {
          "output_type": "stream",
          "name": "stdout",
          "text": [
            "<class 'list'> 15\n",
            "['The', 'Matrix', 'is', 'everywhere', 'its', 'all', 'around', 'us', ',', 'here', 'even', 'in', 'this', 'room', '.']\n"
          ]
        }
      ]
    },
    {
      "cell_type": "code",
      "source": [
        "from nltk import word_tokenize, sent_tokenize\n",
        "# 여러 개의 문장으로 된 입력 데이터를 문장별로 단어 토큰화하게 만드는 함수 생성\n",
        "def tokenize_text(text):\n",
        "\n",
        "  # 문장별로 분리 토큰\n",
        "  sentences = sent_tokenize(text)\n",
        "  # 분리된 문장별 단어 토큰화\n",
        "  word_tokens = [word_tokenize(sentence) for sentence in sentences]\n",
        "  return word_tokens\n",
        "\n",
        "#여러 문장에 대해 문장별 단어 토큰화 수행.\n",
        "word_tokens = tokenize_text(text_sample)\n",
        "print(type(word_tokens), len(word_tokens))\n",
        "print(word_tokens)"
      ],
      "metadata": {
        "colab": {
          "base_uri": "https://localhost:8080/"
        },
        "id": "nfcj_TT6HbcO",
        "outputId": "f06208b3-8706-4b6c-8edc-a3be4f94090e"
      },
      "execution_count": 16,
      "outputs": [
        {
          "output_type": "stream",
          "name": "stdout",
          "text": [
            "<class 'list'> 3\n",
            "[['The', 'Matrix', 'is', 'everywhere', 'its', 'all', 'around', 'us', ',', 'here', 'even', 'in', 'this', 'room', '.'], ['You', 'can', 'see', 'it', 'out', 'your', 'window', 'or', 'on', 'your', 'television', '.'], ['You', 'feel', 'it', 'when', 'you', 'go', 'to', 'work', ',', 'or', 'go', 'to', 'church', 'or', 'pay', 'your', 'taxes', '.']]\n"
          ]
        }
      ]
    },
    {
      "cell_type": "markdown",
      "source": [
        "- 스톱 워드 제거\n",
        "\n",
        "분석에 큰 의미가 없는 단어 제거"
      ],
      "metadata": {
        "id": "1MUMNAE0WH-f"
      }
    },
    {
      "cell_type": "code",
      "source": [
        "import nltk\n",
        "nltk.download('stopwords')"
      ],
      "metadata": {
        "colab": {
          "base_uri": "https://localhost:8080/"
        },
        "id": "eb8Gr3FRHdkR",
        "outputId": "3f8f7f8b-c1bb-4fcc-fd2e-93648dfa1528"
      },
      "execution_count": 17,
      "outputs": [
        {
          "output_type": "stream",
          "name": "stderr",
          "text": [
            "[nltk_data] Downloading package stopwords to /root/nltk_data...\n",
            "[nltk_data]   Package stopwords is already up-to-date!\n"
          ]
        },
        {
          "output_type": "execute_result",
          "data": {
            "text/plain": [
              "True"
            ]
          },
          "metadata": {},
          "execution_count": 17
        }
      ]
    },
    {
      "cell_type": "code",
      "source": [
        "print('영어 stop words 개수:', len(nltk.corpus.stopwords.words('english')))\n",
        "print(nltk.corpus.stopwords.words('english')[:20])"
      ],
      "metadata": {
        "colab": {
          "base_uri": "https://localhost:8080/"
        },
        "id": "st2_4wJDHe7v",
        "outputId": "26a62ac9-2e4b-4622-834b-41d126cee951"
      },
      "execution_count": 18,
      "outputs": [
        {
          "output_type": "stream",
          "name": "stdout",
          "text": [
            "영어 stop words 개수: 179\n",
            "['i', 'me', 'my', 'myself', 'we', 'our', 'ours', 'ourselves', 'you', \"you're\", \"you've\", \"you'll\", \"you'd\", 'your', 'yours', 'yourself', 'yourselves', 'he', 'him', 'his']\n"
          ]
        }
      ]
    },
    {
      "cell_type": "code",
      "source": [
        "import nltk\n",
        "\n",
        "stopwords = nltk.corpus.stopwords.words('english')\n",
        "all_tokens = []\n",
        "# 위 예제에서 3개의 문장별로 얻은 word_tokens list에 대해 스톱 워드를 제거하는 반복문\n",
        "for sentence in word_tokens:\n",
        "  filtered_words=[]\n",
        "# 개별 문장별로 토큰화된 문장 list에 대해 스톱 워드를 제거하는 반복문\n",
        "for word in sentence:\n",
        "  # 소문자로 모두 변환합니다.\n",
        "  word = word.lower()\n",
        "  # 토큰화된 개별 단어가 스톱 워드의 단어에 포함되지 않으면 word_tokens에 추가\n",
        "  if word not in stopwords:\n",
        "      filtered_words.append(word)\n",
        "  all_tokens.append(filtered_words)\n",
        "\n",
        "print(all_tokens)"
      ],
      "metadata": {
        "colab": {
          "base_uri": "https://localhost:8080/"
        },
        "id": "eoapzv1AHhf3",
        "outputId": "e98383e0-493e-42d9-8501-c78d8935b86a"
      },
      "execution_count": 19,
      "outputs": [
        {
          "output_type": "stream",
          "name": "stdout",
          "text": [
            "[['feel', 'go', 'work', ',', 'go', 'church', 'pay', 'taxes', '.'], ['feel', 'go', 'work', ',', 'go', 'church', 'pay', 'taxes', '.'], ['feel', 'go', 'work', ',', 'go', 'church', 'pay', 'taxes', '.'], ['feel', 'go', 'work', ',', 'go', 'church', 'pay', 'taxes', '.'], ['feel', 'go', 'work', ',', 'go', 'church', 'pay', 'taxes', '.'], ['feel', 'go', 'work', ',', 'go', 'church', 'pay', 'taxes', '.'], ['feel', 'go', 'work', ',', 'go', 'church', 'pay', 'taxes', '.'], ['feel', 'go', 'work', ',', 'go', 'church', 'pay', 'taxes', '.'], ['feel', 'go', 'work', ',', 'go', 'church', 'pay', 'taxes', '.'], ['feel', 'go', 'work', ',', 'go', 'church', 'pay', 'taxes', '.'], ['feel', 'go', 'work', ',', 'go', 'church', 'pay', 'taxes', '.'], ['feel', 'go', 'work', ',', 'go', 'church', 'pay', 'taxes', '.'], ['feel', 'go', 'work', ',', 'go', 'church', 'pay', 'taxes', '.'], ['feel', 'go', 'work', ',', 'go', 'church', 'pay', 'taxes', '.'], ['feel', 'go', 'work', ',', 'go', 'church', 'pay', 'taxes', '.'], ['feel', 'go', 'work', ',', 'go', 'church', 'pay', 'taxes', '.'], ['feel', 'go', 'work', ',', 'go', 'church', 'pay', 'taxes', '.'], ['feel', 'go', 'work', ',', 'go', 'church', 'pay', 'taxes', '.']]\n"
          ]
        }
      ]
    },
    {
      "cell_type": "markdown",
      "source": [
        "- Stemming과 Lemmatization\n",
        "\n",
        "문법적 또는 의미적으로 변화하는 단어의 원형을 찾는 것\n",
        "\n",
        "두 기능 모두 원형 단어를 찾는다는 목적은 유사하지만, Lemmatization이 Stemming보다 정교하며 의미론적인 기반에서 단어의 원형을 찾음\n",
        "\n",
        "Stemming: 원형 단어로 변환 시 일반적인 방법을 적용하거나 더 단순화된 방법을 적용해 원래 단어에서 일부 철자가 훼손된 어근 단어를 추출하는 경향이 있음\n",
        "\n",
        "Lemmatization: 품사와 같은 문법적인 요소와 더 의미적인 부분을 감안해 정확한 철자로 된 어근 단어를 찾아줌, Stemming보다 변환에 더 오랜 시간 걸림"
      ],
      "metadata": {
        "id": "WfJ-lQuVWbu0"
      }
    },
    {
      "cell_type": "code",
      "source": [
        "from nltk.stem import LancasterStemmer\n",
        "stemmer = LancasterStemmer()\n",
        "\n",
        "print(stemmer.stem('working'), stemmer.stem('works'), stemmer.stem('worked'))\n",
        "print(stemmer.stem('amusing'), stemmer.stem('amuses'), stemmer.stem('amused'))\n",
        "print(stemmer.stem('happier'), stemmer.stem('happiest'))\n",
        "print(stemmer.stem('fancier'), stemmer.stem('fanciest'))"
      ],
      "metadata": {
        "colab": {
          "base_uri": "https://localhost:8080/"
        },
        "id": "kAsvv8udHjJD",
        "outputId": "5a12aaf9-a295-48a6-df4c-694bc4d42d22"
      },
      "execution_count": 20,
      "outputs": [
        {
          "output_type": "stream",
          "name": "stdout",
          "text": [
            "work work work\n",
            "amus amus amus\n",
            "happy happiest\n",
            "fant fanciest\n"
          ]
        }
      ]
    },
    {
      "cell_type": "code",
      "source": [
        "from nltk.stem import WordNetLemmatizer\n",
        "import nltk\n",
        "nltk.download('wordnet')\n",
        "\n",
        "lemma = WordNetLemmatizer()\n",
        "print(lemma.lemmatize('amusing', 'v'), lemma.lemmatize('amuses', 'v'), lemma.lemmatize('amused', 'v'))\n",
        "print(lemma.lemmatize('happier', 'a'), lemma.lemmatize('happiest', 'a'))\n",
        "print(lemma.lemmatize('fancier', 'a'), lemma.lemmatize('fanciest', 'a'))"
      ],
      "metadata": {
        "colab": {
          "base_uri": "https://localhost:8080/"
        },
        "id": "sVngIjsKHkqu",
        "outputId": "43292f8a-a074-482e-d1f1-1c32fbfa206b"
      },
      "execution_count": 21,
      "outputs": [
        {
          "output_type": "stream",
          "name": "stdout",
          "text": [
            "amuse amuse amuse\n",
            "happy happy\n",
            "fancy fancy\n"
          ]
        },
        {
          "output_type": "stream",
          "name": "stderr",
          "text": [
            "[nltk_data] Downloading package wordnet to /root/nltk_data...\n",
            "[nltk_data]   Package wordnet is already up-to-date!\n"
          ]
        }
      ]
    },
    {
      "cell_type": "markdown",
      "source": [
        "## 03. Bag of Words - BOW\n",
        "\n",
        "Bag of Words 모델: 문서가 가지는 모든 단어(Words)를 문맥이나 순서를 무시하고 일괄적으로 단어에 대해 빈도 값을 부여해 피처 값을 추출하는 모델\n",
        "\n",
        "- 장점: 쉽고 빠른 구축\n",
        "- 단점: 문맥 의미 반영 부족, 희소 행렬 문제(희소성, 희소 행렬), BOW 피처 벡터화\n",
        "\n",
        "- BOW 피처 벡터화\n",
        "\n",
        "피처 벡터화: 모든 문서에서 모든 단어를 칼럼 형태로 나열하고 각 문서에서 해당 단어의 횟수나 정규화된 빈도를 값으로 부여하는 데이터 세트 모델로 변경하는 것\n",
        "\n",
        "카운트 기반의 벡터화 : 단어 피처에 값을 부여할 때 각 문서에서 해당 단어가 나타나는 횟수, 즉 Count를 부여하는 경우\n",
        "\n",
        "TF-IDF(Term Frequency — Inverse Document Frequency) 기반의 벡터화 : 개별 문서에서 자주 나타나는 단어에 높은 가중치를 주되, 모든 문서에서 전반적으로 나타나는 단어에 대해서는 페널티를 주는 방식으로 값을 부여\n",
        "\n",
        "- 사이킷런의 Count 및 TF-IDF 벡터화 구현: CountVectorizer, TfidfVectorizer\n",
        "\n",
        "CountVectorizer : 카운트 기반의 벡터화를 구현한 클래스, 피처 벡터화만 수행하지 않으며 소문자 일괄 변환, 토큰화, 스톱 워 드 필터링 등의 텍스트 전처리도 함께 수행\n",
        "\n",
        "데이터 전처리 -> 단어 토큰화 -> 텍스트 정규화 수행 -> 피처 벡터화\n",
        "\n",
        "- BOW 벡터화를 위한 희소 행렬\n",
        "\n",
        "희소 행렬: 대규모 행렬의 대부분의 값을 0이 차지하는 행렬\n",
        "\n",
        "- 희소 행렬 — C00 형식\n",
        "\n",
        "COO(Coordinate： 좌표) 형식 : 0이 아닌 데이터만 별도의 데이터 배열(Array)에 저장하고, 그 데이터가 가리키는 행과 열의 위치를 별도의 배열로 저장하는 방식"
      ],
      "metadata": {
        "id": "ahm0sH6dWhV9"
      }
    },
    {
      "cell_type": "code",
      "source": [
        "import numpy as np\n",
        "\n",
        "dense = np.array( [ [3, 0, 1 ], [0, 2, 0] ] )\n",
        "\n",
        "from scipy import sparse\n",
        "#0이 아닌 데이터 추출\n",
        "data = np.array([3, 1, 2])\n",
        "\n",
        "#행 위치와 열 위치를 각각 배열로 생성\n",
        "row_pos = np.array([0, 0, 1 ])\n",
        "col_pos = np.array([0, 2, 1])\n",
        "\n",
        "#sparse 패키지의 coo_matrix를 이용해 COO 형식으로 희소 행렬 생성\n",
        "sparse_coo = sparse.coo_matrix((data, (row_pos, col_pos)))"
      ],
      "metadata": {
        "id": "tnUMTQmYHmX8"
      },
      "execution_count": 34,
      "outputs": []
    },
    {
      "cell_type": "code",
      "source": [
        "sparse_coo.toarray()"
      ],
      "metadata": {
        "colab": {
          "base_uri": "https://localhost:8080/"
        },
        "id": "n2Hw906pHnim",
        "outputId": "23865641-239e-41a7-9621-54196304da8a"
      },
      "execution_count": 29,
      "outputs": [
        {
          "output_type": "execute_result",
          "data": {
            "text/plain": [
              "array([[3, 0, 1],\n",
              "       [0, 2, 0]])"
            ]
          },
          "metadata": {},
          "execution_count": 29
        }
      ]
    },
    {
      "cell_type": "markdown",
      "source": [
        "- 희소 행렬 - CSR 형식\n",
        "\n",
        "CSR(Compressed Sparse Row) 형식: COO 형식이 행과 열의 위치를 나타내기 위해서 반복적인 위치 데이터를 사용해야 하는 문제점을 해결한 방식"
      ],
      "metadata": {
        "id": "rUG8PcDYWm7H"
      }
    },
    {
      "cell_type": "code",
      "source": [
        "#2차원 배열\n",
        "[[0, 0, 1, 0, 0, 5], [1, 4, 0, 3, 2, 5], [0, 6, 0, 3, 0, 0], [2, 0, 0, 0, 0, 0], [0, 0, 0, 7, 0, 8], [1, 0, 0, 0, 0, 0]]"
      ],
      "metadata": {
        "colab": {
          "base_uri": "https://localhost:8080/"
        },
        "id": "isb_pwRaHoxs",
        "outputId": "3fd472ee-acff-47a5-e0ad-518897d0bcad"
      },
      "execution_count": 30,
      "outputs": [
        {
          "output_type": "execute_result",
          "data": {
            "text/plain": [
              "[[0, 0, 1, 0, 0, 5],\n",
              " [1, 4, 0, 3, 2, 5],\n",
              " [0, 6, 0, 3, 0, 0],\n",
              " [2, 0, 0, 0, 0, 0],\n",
              " [0, 0, 0, 7, 0, 8],\n",
              " [1, 0, 0, 0, 0, 0]]"
            ]
          },
          "metadata": {},
          "execution_count": 30
        }
      ]
    },
    {
      "cell_type": "code",
      "source": [
        "# 0이 아닌 데이터 배열과 열 위치 배열, 그리고 행 위치 배열의 고유한 값의 시작 위치 배열을 csr_matrix의 생성 파라미터 로 입력\n",
        "\n",
        "import numpy as np\n",
        "from scipy import sparse\n",
        "\n",
        "dense2 = np.array([[0, 0, 1, 0, 0, 5],\n",
        "                   [1, 4, 0, 3, 2, 5],\n",
        "                   [0, 6, 0, 3, 0, 0],\n",
        "                   [2, 0, 0, 0, 0, 0],\n",
        "                   [0, 0, 0, 7, 0, 8],\n",
        "                   [1, 0, 0, 0, 0, 0]])\n",
        "\n",
        "# 0이 아닌 데이터 추출\n",
        "data2 = np.array([1, 5, 1, 4, 3, 2, 5, 6, 3, 2, 7, 8, 1])\n",
        "\n",
        "# 행 위치와 열 위치를 각각 array로 생성\n",
        "row_pos = np.array([0, 0, 1, 1, 1, 1, 1, 2, 2, 3, 4, 4, 5])\n",
        "col_pos = np.array([2, 5, 0, 1, 3, 4, 5, 1, 3, 0, 3, 5, 0])\n",
        "\n",
        "# COO 형식으로 변환\n",
        "sparse_coo = sparse.coo_matrix((data2, (row_pos, col_pos)))\n",
        "\n",
        "# 행 위치 배열의 고유한 값의 시작 위치 인덱스를 배열로 생성\n",
        "row_pos_ind = np.array([0, 2, 7, 9, 10, 12, 13])\n",
        "\n",
        "# CSR 형식으로 변환\n",
        "sparse_csr = sparse.csr_matrix((data2, col_pos, row_pos_ind))\n",
        "\n",
        "# 출력 확인\n",
        "print('COO 형식으로 변환된 데이터가 제대로 되었는지 확인:')\n",
        "print(sparse_coo.toarray())\n",
        "\n",
        "print('CSR 형식으로 변환된 데이터가 제대로 되었는지 확인:')\n",
        "print(sparse_csr.toarray())"
      ],
      "metadata": {
        "colab": {
          "base_uri": "https://localhost:8080/"
        },
        "id": "Hmtk3-qPHrf9",
        "outputId": "5210a889-9b6e-417c-feda-ceee6a4343a6"
      },
      "execution_count": 36,
      "outputs": [
        {
          "output_type": "stream",
          "name": "stdout",
          "text": [
            "COO 형식으로 변환된 데이터가 제대로 되었는지 확인:\n",
            "[[0 0 1 0 0 5]\n",
            " [1 4 0 3 2 5]\n",
            " [0 6 0 3 0 0]\n",
            " [2 0 0 0 0 0]\n",
            " [0 0 0 7 0 8]\n",
            " [1 0 0 0 0 0]]\n",
            "CSR 형식으로 변환된 데이터가 제대로 되었는지 확인:\n",
            "[[0 0 1 0 0 5]\n",
            " [1 4 0 3 2 5]\n",
            " [0 6 0 3 0 0]\n",
            " [2 0 0 0 0 0]\n",
            " [0 0 0 7 0 8]\n",
            " [1 0 0 0 0 0]]\n"
          ]
        }
      ]
    },
    {
      "cell_type": "code",
      "source": [
        "dense3 = np.array([[0, 0, 1, 0, 0, 5],\n",
        "                    [1, 4, 0, 3, 2, 5],\n",
        "                    [0, 6, 0, 3, 0, 0],\n",
        "                    [2, 0, 0, 0, 0, 0],\n",
        "                    [0, 0, 0, 7, 0, 8],\n",
        "                    [1, 0, 0, 0, 0, 0]])\n",
        "\n",
        "coo = sparse.coo_matrix(dense3)\n",
        "csr = sparse.csr_matrix(dense3)"
      ],
      "metadata": {
        "id": "if6RkDaWHuno"
      },
      "execution_count": 37,
      "outputs": []
    }
  ]
}